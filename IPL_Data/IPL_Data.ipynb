{
 "cells": [
  {
   "cell_type": "code",
   "execution_count": 53,
   "metadata": {},
   "outputs": [],
   "source": [
    "import numpy as np\n",
    "import pandas as pd\n",
    "import matplotlib.pyplot as plt"
   ]
  },
  {
   "cell_type": "code",
   "execution_count": 54,
   "metadata": {},
   "outputs": [],
   "source": [
    "%matplotlib inline"
   ]
  },
  {
   "cell_type": "code",
   "execution_count": 55,
   "metadata": {},
   "outputs": [],
   "source": [
    "mat_df=pd.read_csv(\"matches.csv\")\n",
    "del_df=pd.read_csv(\"deliveries.csv\")"
   ]
  },
  {
   "cell_type": "code",
   "execution_count": 56,
   "metadata": {},
   "outputs": [
    {
     "data": {
      "text/plain": [
       "(756, 18)"
      ]
     },
     "execution_count": 56,
     "metadata": {},
     "output_type": "execute_result"
    }
   ],
   "source": [
    "mat_df.shape"
   ]
  },
  {
   "cell_type": "code",
   "execution_count": 57,
   "metadata": {},
   "outputs": [
    {
     "data": {
      "text/plain": [
       "(179078, 21)"
      ]
     },
     "execution_count": 57,
     "metadata": {},
     "output_type": "execute_result"
    }
   ],
   "source": [
    "del_df.shape"
   ]
  },
  {
   "cell_type": "code",
   "execution_count": 58,
   "metadata": {},
   "outputs": [
    {
     "data": {
      "text/html": [
       "<div>\n",
       "<style scoped>\n",
       "    .dataframe tbody tr th:only-of-type {\n",
       "        vertical-align: middle;\n",
       "    }\n",
       "\n",
       "    .dataframe tbody tr th {\n",
       "        vertical-align: top;\n",
       "    }\n",
       "\n",
       "    .dataframe thead th {\n",
       "        text-align: right;\n",
       "    }\n",
       "</style>\n",
       "<table border=\"1\" class=\"dataframe\">\n",
       "  <thead>\n",
       "    <tr style=\"text-align: right;\">\n",
       "      <th></th>\n",
       "      <th>id</th>\n",
       "      <th>season</th>\n",
       "      <th>city</th>\n",
       "      <th>date</th>\n",
       "      <th>team1</th>\n",
       "      <th>team2</th>\n",
       "      <th>toss_winner</th>\n",
       "      <th>toss_decision</th>\n",
       "      <th>result</th>\n",
       "      <th>dl_applied</th>\n",
       "      <th>winner</th>\n",
       "      <th>win_by_runs</th>\n",
       "      <th>win_by_wickets</th>\n",
       "      <th>player_of_match</th>\n",
       "      <th>venue</th>\n",
       "      <th>umpire1</th>\n",
       "      <th>umpire2</th>\n",
       "      <th>umpire3</th>\n",
       "    </tr>\n",
       "  </thead>\n",
       "  <tbody>\n",
       "    <tr>\n",
       "      <th>0</th>\n",
       "      <td>1</td>\n",
       "      <td>2017</td>\n",
       "      <td>Hyderabad</td>\n",
       "      <td>2017-04-05</td>\n",
       "      <td>Sunrisers Hyderabad</td>\n",
       "      <td>Royal Challengers Bangalore</td>\n",
       "      <td>Royal Challengers Bangalore</td>\n",
       "      <td>field</td>\n",
       "      <td>normal</td>\n",
       "      <td>0</td>\n",
       "      <td>Sunrisers Hyderabad</td>\n",
       "      <td>35</td>\n",
       "      <td>0</td>\n",
       "      <td>Yuvraj Singh</td>\n",
       "      <td>Rajiv Gandhi International Stadium, Uppal</td>\n",
       "      <td>AY Dandekar</td>\n",
       "      <td>NJ Llong</td>\n",
       "      <td>NaN</td>\n",
       "    </tr>\n",
       "    <tr>\n",
       "      <th>1</th>\n",
       "      <td>2</td>\n",
       "      <td>2017</td>\n",
       "      <td>Pune</td>\n",
       "      <td>2017-04-06</td>\n",
       "      <td>Mumbai Indians</td>\n",
       "      <td>Rising Pune Supergiant</td>\n",
       "      <td>Rising Pune Supergiant</td>\n",
       "      <td>field</td>\n",
       "      <td>normal</td>\n",
       "      <td>0</td>\n",
       "      <td>Rising Pune Supergiant</td>\n",
       "      <td>0</td>\n",
       "      <td>7</td>\n",
       "      <td>SPD Smith</td>\n",
       "      <td>Maharashtra Cricket Association Stadium</td>\n",
       "      <td>A Nand Kishore</td>\n",
       "      <td>S Ravi</td>\n",
       "      <td>NaN</td>\n",
       "    </tr>\n",
       "    <tr>\n",
       "      <th>2</th>\n",
       "      <td>3</td>\n",
       "      <td>2017</td>\n",
       "      <td>Rajkot</td>\n",
       "      <td>2017-04-07</td>\n",
       "      <td>Gujarat Lions</td>\n",
       "      <td>Kolkata Knight Riders</td>\n",
       "      <td>Kolkata Knight Riders</td>\n",
       "      <td>field</td>\n",
       "      <td>normal</td>\n",
       "      <td>0</td>\n",
       "      <td>Kolkata Knight Riders</td>\n",
       "      <td>0</td>\n",
       "      <td>10</td>\n",
       "      <td>CA Lynn</td>\n",
       "      <td>Saurashtra Cricket Association Stadium</td>\n",
       "      <td>Nitin Menon</td>\n",
       "      <td>CK Nandan</td>\n",
       "      <td>NaN</td>\n",
       "    </tr>\n",
       "    <tr>\n",
       "      <th>3</th>\n",
       "      <td>4</td>\n",
       "      <td>2017</td>\n",
       "      <td>Indore</td>\n",
       "      <td>2017-04-08</td>\n",
       "      <td>Rising Pune Supergiant</td>\n",
       "      <td>Kings XI Punjab</td>\n",
       "      <td>Kings XI Punjab</td>\n",
       "      <td>field</td>\n",
       "      <td>normal</td>\n",
       "      <td>0</td>\n",
       "      <td>Kings XI Punjab</td>\n",
       "      <td>0</td>\n",
       "      <td>6</td>\n",
       "      <td>GJ Maxwell</td>\n",
       "      <td>Holkar Cricket Stadium</td>\n",
       "      <td>AK Chaudhary</td>\n",
       "      <td>C Shamshuddin</td>\n",
       "      <td>NaN</td>\n",
       "    </tr>\n",
       "    <tr>\n",
       "      <th>4</th>\n",
       "      <td>5</td>\n",
       "      <td>2017</td>\n",
       "      <td>Bangalore</td>\n",
       "      <td>2017-04-08</td>\n",
       "      <td>Royal Challengers Bangalore</td>\n",
       "      <td>Delhi Daredevils</td>\n",
       "      <td>Royal Challengers Bangalore</td>\n",
       "      <td>bat</td>\n",
       "      <td>normal</td>\n",
       "      <td>0</td>\n",
       "      <td>Royal Challengers Bangalore</td>\n",
       "      <td>15</td>\n",
       "      <td>0</td>\n",
       "      <td>KM Jadhav</td>\n",
       "      <td>M Chinnaswamy Stadium</td>\n",
       "      <td>NaN</td>\n",
       "      <td>NaN</td>\n",
       "      <td>NaN</td>\n",
       "    </tr>\n",
       "  </tbody>\n",
       "</table>\n",
       "</div>"
      ],
      "text/plain": [
       "   id  season       city        date                        team1  \\\n",
       "0   1    2017  Hyderabad  2017-04-05          Sunrisers Hyderabad   \n",
       "1   2    2017       Pune  2017-04-06               Mumbai Indians   \n",
       "2   3    2017     Rajkot  2017-04-07                Gujarat Lions   \n",
       "3   4    2017     Indore  2017-04-08       Rising Pune Supergiant   \n",
       "4   5    2017  Bangalore  2017-04-08  Royal Challengers Bangalore   \n",
       "\n",
       "                         team2                  toss_winner toss_decision  \\\n",
       "0  Royal Challengers Bangalore  Royal Challengers Bangalore         field   \n",
       "1       Rising Pune Supergiant       Rising Pune Supergiant         field   \n",
       "2        Kolkata Knight Riders        Kolkata Knight Riders         field   \n",
       "3              Kings XI Punjab              Kings XI Punjab         field   \n",
       "4             Delhi Daredevils  Royal Challengers Bangalore           bat   \n",
       "\n",
       "   result  dl_applied                       winner  win_by_runs  \\\n",
       "0  normal           0          Sunrisers Hyderabad           35   \n",
       "1  normal           0       Rising Pune Supergiant            0   \n",
       "2  normal           0        Kolkata Knight Riders            0   \n",
       "3  normal           0              Kings XI Punjab            0   \n",
       "4  normal           0  Royal Challengers Bangalore           15   \n",
       "\n",
       "   win_by_wickets player_of_match                                      venue  \\\n",
       "0               0    Yuvraj Singh  Rajiv Gandhi International Stadium, Uppal   \n",
       "1               7       SPD Smith    Maharashtra Cricket Association Stadium   \n",
       "2              10         CA Lynn     Saurashtra Cricket Association Stadium   \n",
       "3               6      GJ Maxwell                     Holkar Cricket Stadium   \n",
       "4               0       KM Jadhav                      M Chinnaswamy Stadium   \n",
       "\n",
       "          umpire1        umpire2 umpire3  \n",
       "0     AY Dandekar       NJ Llong     NaN  \n",
       "1  A Nand Kishore         S Ravi     NaN  \n",
       "2     Nitin Menon      CK Nandan     NaN  \n",
       "3    AK Chaudhary  C Shamshuddin     NaN  \n",
       "4             NaN            NaN     NaN  "
      ]
     },
     "execution_count": 58,
     "metadata": {},
     "output_type": "execute_result"
    }
   ],
   "source": [
    "mat_df.head()"
   ]
  },
  {
   "cell_type": "code",
   "execution_count": 59,
   "metadata": {},
   "outputs": [
    {
     "data": {
      "text/html": [
       "<div>\n",
       "<style scoped>\n",
       "    .dataframe tbody tr th:only-of-type {\n",
       "        vertical-align: middle;\n",
       "    }\n",
       "\n",
       "    .dataframe tbody tr th {\n",
       "        vertical-align: top;\n",
       "    }\n",
       "\n",
       "    .dataframe thead th {\n",
       "        text-align: right;\n",
       "    }\n",
       "</style>\n",
       "<table border=\"1\" class=\"dataframe\">\n",
       "  <thead>\n",
       "    <tr style=\"text-align: right;\">\n",
       "      <th></th>\n",
       "      <th>match_id</th>\n",
       "      <th>inning</th>\n",
       "      <th>batting_team</th>\n",
       "      <th>bowling_team</th>\n",
       "      <th>over</th>\n",
       "      <th>ball</th>\n",
       "      <th>batsman</th>\n",
       "      <th>non_striker</th>\n",
       "      <th>bowler</th>\n",
       "      <th>is_super_over</th>\n",
       "      <th>...</th>\n",
       "      <th>bye_runs</th>\n",
       "      <th>legbye_runs</th>\n",
       "      <th>noball_runs</th>\n",
       "      <th>penalty_runs</th>\n",
       "      <th>batsman_runs</th>\n",
       "      <th>extra_runs</th>\n",
       "      <th>total_runs</th>\n",
       "      <th>player_dismissed</th>\n",
       "      <th>dismissal_kind</th>\n",
       "      <th>fielder</th>\n",
       "    </tr>\n",
       "  </thead>\n",
       "  <tbody>\n",
       "    <tr>\n",
       "      <th>0</th>\n",
       "      <td>1</td>\n",
       "      <td>1</td>\n",
       "      <td>Sunrisers Hyderabad</td>\n",
       "      <td>Royal Challengers Bangalore</td>\n",
       "      <td>1</td>\n",
       "      <td>1</td>\n",
       "      <td>DA Warner</td>\n",
       "      <td>S Dhawan</td>\n",
       "      <td>TS Mills</td>\n",
       "      <td>0</td>\n",
       "      <td>...</td>\n",
       "      <td>0</td>\n",
       "      <td>0</td>\n",
       "      <td>0</td>\n",
       "      <td>0</td>\n",
       "      <td>0</td>\n",
       "      <td>0</td>\n",
       "      <td>0</td>\n",
       "      <td>NaN</td>\n",
       "      <td>NaN</td>\n",
       "      <td>NaN</td>\n",
       "    </tr>\n",
       "    <tr>\n",
       "      <th>1</th>\n",
       "      <td>1</td>\n",
       "      <td>1</td>\n",
       "      <td>Sunrisers Hyderabad</td>\n",
       "      <td>Royal Challengers Bangalore</td>\n",
       "      <td>1</td>\n",
       "      <td>2</td>\n",
       "      <td>DA Warner</td>\n",
       "      <td>S Dhawan</td>\n",
       "      <td>TS Mills</td>\n",
       "      <td>0</td>\n",
       "      <td>...</td>\n",
       "      <td>0</td>\n",
       "      <td>0</td>\n",
       "      <td>0</td>\n",
       "      <td>0</td>\n",
       "      <td>0</td>\n",
       "      <td>0</td>\n",
       "      <td>0</td>\n",
       "      <td>NaN</td>\n",
       "      <td>NaN</td>\n",
       "      <td>NaN</td>\n",
       "    </tr>\n",
       "    <tr>\n",
       "      <th>2</th>\n",
       "      <td>1</td>\n",
       "      <td>1</td>\n",
       "      <td>Sunrisers Hyderabad</td>\n",
       "      <td>Royal Challengers Bangalore</td>\n",
       "      <td>1</td>\n",
       "      <td>3</td>\n",
       "      <td>DA Warner</td>\n",
       "      <td>S Dhawan</td>\n",
       "      <td>TS Mills</td>\n",
       "      <td>0</td>\n",
       "      <td>...</td>\n",
       "      <td>0</td>\n",
       "      <td>0</td>\n",
       "      <td>0</td>\n",
       "      <td>0</td>\n",
       "      <td>4</td>\n",
       "      <td>0</td>\n",
       "      <td>4</td>\n",
       "      <td>NaN</td>\n",
       "      <td>NaN</td>\n",
       "      <td>NaN</td>\n",
       "    </tr>\n",
       "    <tr>\n",
       "      <th>3</th>\n",
       "      <td>1</td>\n",
       "      <td>1</td>\n",
       "      <td>Sunrisers Hyderabad</td>\n",
       "      <td>Royal Challengers Bangalore</td>\n",
       "      <td>1</td>\n",
       "      <td>4</td>\n",
       "      <td>DA Warner</td>\n",
       "      <td>S Dhawan</td>\n",
       "      <td>TS Mills</td>\n",
       "      <td>0</td>\n",
       "      <td>...</td>\n",
       "      <td>0</td>\n",
       "      <td>0</td>\n",
       "      <td>0</td>\n",
       "      <td>0</td>\n",
       "      <td>0</td>\n",
       "      <td>0</td>\n",
       "      <td>0</td>\n",
       "      <td>NaN</td>\n",
       "      <td>NaN</td>\n",
       "      <td>NaN</td>\n",
       "    </tr>\n",
       "    <tr>\n",
       "      <th>4</th>\n",
       "      <td>1</td>\n",
       "      <td>1</td>\n",
       "      <td>Sunrisers Hyderabad</td>\n",
       "      <td>Royal Challengers Bangalore</td>\n",
       "      <td>1</td>\n",
       "      <td>5</td>\n",
       "      <td>DA Warner</td>\n",
       "      <td>S Dhawan</td>\n",
       "      <td>TS Mills</td>\n",
       "      <td>0</td>\n",
       "      <td>...</td>\n",
       "      <td>0</td>\n",
       "      <td>0</td>\n",
       "      <td>0</td>\n",
       "      <td>0</td>\n",
       "      <td>0</td>\n",
       "      <td>2</td>\n",
       "      <td>2</td>\n",
       "      <td>NaN</td>\n",
       "      <td>NaN</td>\n",
       "      <td>NaN</td>\n",
       "    </tr>\n",
       "  </tbody>\n",
       "</table>\n",
       "<p>5 rows × 21 columns</p>\n",
       "</div>"
      ],
      "text/plain": [
       "   match_id  inning         batting_team                 bowling_team  over  \\\n",
       "0         1       1  Sunrisers Hyderabad  Royal Challengers Bangalore     1   \n",
       "1         1       1  Sunrisers Hyderabad  Royal Challengers Bangalore     1   \n",
       "2         1       1  Sunrisers Hyderabad  Royal Challengers Bangalore     1   \n",
       "3         1       1  Sunrisers Hyderabad  Royal Challengers Bangalore     1   \n",
       "4         1       1  Sunrisers Hyderabad  Royal Challengers Bangalore     1   \n",
       "\n",
       "   ball    batsman non_striker    bowler  is_super_over   ...    bye_runs  \\\n",
       "0     1  DA Warner    S Dhawan  TS Mills              0   ...           0   \n",
       "1     2  DA Warner    S Dhawan  TS Mills              0   ...           0   \n",
       "2     3  DA Warner    S Dhawan  TS Mills              0   ...           0   \n",
       "3     4  DA Warner    S Dhawan  TS Mills              0   ...           0   \n",
       "4     5  DA Warner    S Dhawan  TS Mills              0   ...           0   \n",
       "\n",
       "   legbye_runs  noball_runs  penalty_runs  batsman_runs  extra_runs  \\\n",
       "0            0            0             0             0           0   \n",
       "1            0            0             0             0           0   \n",
       "2            0            0             0             4           0   \n",
       "3            0            0             0             0           0   \n",
       "4            0            0             0             0           2   \n",
       "\n",
       "   total_runs  player_dismissed dismissal_kind fielder  \n",
       "0           0               NaN            NaN     NaN  \n",
       "1           0               NaN            NaN     NaN  \n",
       "2           4               NaN            NaN     NaN  \n",
       "3           0               NaN            NaN     NaN  \n",
       "4           2               NaN            NaN     NaN  \n",
       "\n",
       "[5 rows x 21 columns]"
      ]
     },
     "execution_count": 59,
     "metadata": {},
     "output_type": "execute_result"
    }
   ],
   "source": [
    "del_df.head()"
   ]
  },
  {
   "cell_type": "code",
   "execution_count": 60,
   "metadata": {},
   "outputs": [
    {
     "data": {
      "text/plain": [
       "Index(['id', 'season', 'city', 'date', 'team1', 'team2', 'toss_winner',\n",
       "       'toss_decision', 'result', 'dl_applied', 'winner', 'win_by_runs',\n",
       "       'win_by_wickets', 'player_of_match', 'venue', 'umpire1', 'umpire2',\n",
       "       'umpire3'],\n",
       "      dtype='object')"
      ]
     },
     "execution_count": 60,
     "metadata": {},
     "output_type": "execute_result"
    }
   ],
   "source": [
    "mat_df.columns"
   ]
  },
  {
   "cell_type": "code",
   "execution_count": 61,
   "metadata": {},
   "outputs": [
    {
     "data": {
      "text/plain": [
       "Index(['match_id', 'inning', 'batting_team', 'bowling_team', 'over', 'ball',\n",
       "       'batsman', 'non_striker', 'bowler', 'is_super_over', 'wide_runs',\n",
       "       'bye_runs', 'legbye_runs', 'noball_runs', 'penalty_runs',\n",
       "       'batsman_runs', 'extra_runs', 'total_runs', 'player_dismissed',\n",
       "       'dismissal_kind', 'fielder'],\n",
       "      dtype='object')"
      ]
     },
     "execution_count": 61,
     "metadata": {},
     "output_type": "execute_result"
    }
   ],
   "source": [
    "del_df.columns"
   ]
  },
  {
   "cell_type": "code",
   "execution_count": 62,
   "metadata": {},
   "outputs": [
    {
     "data": {
      "text/plain": [
       "array(['normal', 'tie', 'no result'], dtype=object)"
      ]
     },
     "execution_count": 62,
     "metadata": {},
     "output_type": "execute_result"
    }
   ],
   "source": [
    "mat_df['result'].unique()"
   ]
  },
  {
   "cell_type": "code",
   "execution_count": 63,
   "metadata": {},
   "outputs": [
    {
     "data": {
      "text/html": [
       "<div>\n",
       "<style scoped>\n",
       "    .dataframe tbody tr th:only-of-type {\n",
       "        vertical-align: middle;\n",
       "    }\n",
       "\n",
       "    .dataframe tbody tr th {\n",
       "        vertical-align: top;\n",
       "    }\n",
       "\n",
       "    .dataframe thead th {\n",
       "        text-align: right;\n",
       "    }\n",
       "</style>\n",
       "<table border=\"1\" class=\"dataframe\">\n",
       "  <thead>\n",
       "    <tr style=\"text-align: right;\">\n",
       "      <th></th>\n",
       "      <th>id</th>\n",
       "      <th>season</th>\n",
       "      <th>city</th>\n",
       "      <th>date</th>\n",
       "      <th>team1</th>\n",
       "      <th>team2</th>\n",
       "      <th>toss_winner</th>\n",
       "      <th>toss_decision</th>\n",
       "      <th>result</th>\n",
       "      <th>dl_applied</th>\n",
       "      <th>winner</th>\n",
       "      <th>win_by_runs</th>\n",
       "      <th>win_by_wickets</th>\n",
       "      <th>player_of_match</th>\n",
       "      <th>venue</th>\n",
       "      <th>umpire1</th>\n",
       "      <th>umpire2</th>\n",
       "      <th>umpire3</th>\n",
       "    </tr>\n",
       "  </thead>\n",
       "  <tbody>\n",
       "    <tr>\n",
       "      <th>300</th>\n",
       "      <td>301</td>\n",
       "      <td>2011</td>\n",
       "      <td>Delhi</td>\n",
       "      <td>2011-05-21</td>\n",
       "      <td>Delhi Daredevils</td>\n",
       "      <td>Pune Warriors</td>\n",
       "      <td>Delhi Daredevils</td>\n",
       "      <td>bat</td>\n",
       "      <td>no result</td>\n",
       "      <td>0</td>\n",
       "      <td>NaN</td>\n",
       "      <td>0</td>\n",
       "      <td>0</td>\n",
       "      <td>NaN</td>\n",
       "      <td>Feroz Shah Kotla</td>\n",
       "      <td>SS Hazare</td>\n",
       "      <td>RJ Tucker</td>\n",
       "      <td>NaN</td>\n",
       "    </tr>\n",
       "    <tr>\n",
       "      <th>545</th>\n",
       "      <td>546</td>\n",
       "      <td>2015</td>\n",
       "      <td>Bangalore</td>\n",
       "      <td>2015-04-29</td>\n",
       "      <td>Royal Challengers Bangalore</td>\n",
       "      <td>Rajasthan Royals</td>\n",
       "      <td>Rajasthan Royals</td>\n",
       "      <td>field</td>\n",
       "      <td>no result</td>\n",
       "      <td>0</td>\n",
       "      <td>NaN</td>\n",
       "      <td>0</td>\n",
       "      <td>0</td>\n",
       "      <td>NaN</td>\n",
       "      <td>M Chinnaswamy Stadium</td>\n",
       "      <td>JD Cloete</td>\n",
       "      <td>PG Pathak</td>\n",
       "      <td>NaN</td>\n",
       "    </tr>\n",
       "    <tr>\n",
       "      <th>570</th>\n",
       "      <td>571</td>\n",
       "      <td>2015</td>\n",
       "      <td>Bangalore</td>\n",
       "      <td>2015-05-17</td>\n",
       "      <td>Delhi Daredevils</td>\n",
       "      <td>Royal Challengers Bangalore</td>\n",
       "      <td>Royal Challengers Bangalore</td>\n",
       "      <td>field</td>\n",
       "      <td>no result</td>\n",
       "      <td>0</td>\n",
       "      <td>NaN</td>\n",
       "      <td>0</td>\n",
       "      <td>0</td>\n",
       "      <td>NaN</td>\n",
       "      <td>M Chinnaswamy Stadium</td>\n",
       "      <td>HDPK Dharmasena</td>\n",
       "      <td>K Srinivasan</td>\n",
       "      <td>NaN</td>\n",
       "    </tr>\n",
       "    <tr>\n",
       "      <th>744</th>\n",
       "      <td>11340</td>\n",
       "      <td>2019</td>\n",
       "      <td>Bengaluru</td>\n",
       "      <td>30/04/19</td>\n",
       "      <td>Royal Challengers Bangalore</td>\n",
       "      <td>Rajasthan Royals</td>\n",
       "      <td>Rajasthan Royals</td>\n",
       "      <td>field</td>\n",
       "      <td>no result</td>\n",
       "      <td>0</td>\n",
       "      <td>NaN</td>\n",
       "      <td>0</td>\n",
       "      <td>0</td>\n",
       "      <td>NaN</td>\n",
       "      <td>M. Chinnaswamy Stadium</td>\n",
       "      <td>Nigel Llong</td>\n",
       "      <td>Ulhas Gandhe</td>\n",
       "      <td>Anil Chaudhary</td>\n",
       "    </tr>\n",
       "  </tbody>\n",
       "</table>\n",
       "</div>"
      ],
      "text/plain": [
       "        id  season       city        date                        team1  \\\n",
       "300    301    2011      Delhi  2011-05-21             Delhi Daredevils   \n",
       "545    546    2015  Bangalore  2015-04-29  Royal Challengers Bangalore   \n",
       "570    571    2015  Bangalore  2015-05-17             Delhi Daredevils   \n",
       "744  11340    2019  Bengaluru    30/04/19  Royal Challengers Bangalore   \n",
       "\n",
       "                           team2                  toss_winner toss_decision  \\\n",
       "300                Pune Warriors             Delhi Daredevils           bat   \n",
       "545             Rajasthan Royals             Rajasthan Royals         field   \n",
       "570  Royal Challengers Bangalore  Royal Challengers Bangalore         field   \n",
       "744             Rajasthan Royals             Rajasthan Royals         field   \n",
       "\n",
       "        result  dl_applied winner  win_by_runs  win_by_wickets  \\\n",
       "300  no result           0    NaN            0               0   \n",
       "545  no result           0    NaN            0               0   \n",
       "570  no result           0    NaN            0               0   \n",
       "744  no result           0    NaN            0               0   \n",
       "\n",
       "    player_of_match                   venue          umpire1       umpire2  \\\n",
       "300             NaN        Feroz Shah Kotla        SS Hazare     RJ Tucker   \n",
       "545             NaN   M Chinnaswamy Stadium        JD Cloete     PG Pathak   \n",
       "570             NaN   M Chinnaswamy Stadium  HDPK Dharmasena  K Srinivasan   \n",
       "744             NaN  M. Chinnaswamy Stadium      Nigel Llong  Ulhas Gandhe   \n",
       "\n",
       "            umpire3  \n",
       "300             NaN  \n",
       "545             NaN  \n",
       "570             NaN  \n",
       "744  Anil Chaudhary  "
      ]
     },
     "execution_count": 63,
     "metadata": {},
     "output_type": "execute_result"
    }
   ],
   "source": [
    "mat_df.query(\"result=='no result'\")"
   ]
  },
  {
   "cell_type": "code",
   "execution_count": 64,
   "metadata": {},
   "outputs": [
    {
     "data": {
      "text/html": [
       "<div>\n",
       "<style scoped>\n",
       "    .dataframe tbody tr th:only-of-type {\n",
       "        vertical-align: middle;\n",
       "    }\n",
       "\n",
       "    .dataframe tbody tr th {\n",
       "        vertical-align: top;\n",
       "    }\n",
       "\n",
       "    .dataframe thead th {\n",
       "        text-align: right;\n",
       "    }\n",
       "</style>\n",
       "<table border=\"1\" class=\"dataframe\">\n",
       "  <thead>\n",
       "    <tr style=\"text-align: right;\">\n",
       "      <th></th>\n",
       "      <th>id</th>\n",
       "      <th>season</th>\n",
       "      <th>city</th>\n",
       "      <th>date</th>\n",
       "      <th>team1</th>\n",
       "      <th>team2</th>\n",
       "      <th>toss_winner</th>\n",
       "      <th>toss_decision</th>\n",
       "      <th>result</th>\n",
       "      <th>dl_applied</th>\n",
       "      <th>winner</th>\n",
       "      <th>win_by_runs</th>\n",
       "      <th>win_by_wickets</th>\n",
       "      <th>player_of_match</th>\n",
       "      <th>venue</th>\n",
       "      <th>umpire1</th>\n",
       "      <th>umpire2</th>\n",
       "      <th>umpire3</th>\n",
       "    </tr>\n",
       "  </thead>\n",
       "  <tbody>\n",
       "  </tbody>\n",
       "</table>\n",
       "</div>"
      ],
      "text/plain": [
       "Empty DataFrame\n",
       "Columns: [id, season, city, date, team1, team2, toss_winner, toss_decision, result, dl_applied, winner, win_by_runs, win_by_wickets, player_of_match, venue, umpire1, umpire2, umpire3]\n",
       "Index: []"
      ]
     },
     "execution_count": 64,
     "metadata": {},
     "output_type": "execute_result"
    }
   ],
   "source": [
    "mat_df.query(\"toss_decision=='bat' & toss_winner==team2\")"
   ]
  },
  {
   "cell_type": "code",
   "execution_count": 65,
   "metadata": {},
   "outputs": [
    {
     "data": {
      "text/html": [
       "<div>\n",
       "<style scoped>\n",
       "    .dataframe tbody tr th:only-of-type {\n",
       "        vertical-align: middle;\n",
       "    }\n",
       "\n",
       "    .dataframe tbody tr th {\n",
       "        vertical-align: top;\n",
       "    }\n",
       "\n",
       "    .dataframe thead th {\n",
       "        text-align: right;\n",
       "    }\n",
       "</style>\n",
       "<table border=\"1\" class=\"dataframe\">\n",
       "  <thead>\n",
       "    <tr style=\"text-align: right;\">\n",
       "      <th></th>\n",
       "      <th>id</th>\n",
       "      <th>season</th>\n",
       "      <th>city</th>\n",
       "      <th>date</th>\n",
       "      <th>team1</th>\n",
       "      <th>team2</th>\n",
       "      <th>toss_winner</th>\n",
       "      <th>toss_decision</th>\n",
       "      <th>result</th>\n",
       "      <th>dl_applied</th>\n",
       "      <th>winner</th>\n",
       "      <th>win_by_runs</th>\n",
       "      <th>win_by_wickets</th>\n",
       "      <th>player_of_match</th>\n",
       "      <th>venue</th>\n",
       "      <th>umpire1</th>\n",
       "      <th>umpire2</th>\n",
       "      <th>umpire3</th>\n",
       "    </tr>\n",
       "  </thead>\n",
       "  <tbody>\n",
       "  </tbody>\n",
       "</table>\n",
       "</div>"
      ],
      "text/plain": [
       "Empty DataFrame\n",
       "Columns: [id, season, city, date, team1, team2, toss_winner, toss_decision, result, dl_applied, winner, win_by_runs, win_by_wickets, player_of_match, venue, umpire1, umpire2, umpire3]\n",
       "Index: []"
      ]
     },
     "execution_count": 65,
     "metadata": {},
     "output_type": "execute_result"
    }
   ],
   "source": [
    "mat_df.query(\"toss_decision=='field' & toss_winner==team1\")"
   ]
  },
  {
   "cell_type": "code",
   "execution_count": 66,
   "metadata": {},
   "outputs": [],
   "source": [
    "cl_mat_df=mat_df.drop(mat_df.query(\"result=='tie'or result=='no result'\").index)"
   ]
  },
  {
   "cell_type": "code",
   "execution_count": 67,
   "metadata": {},
   "outputs": [
    {
     "name": "stdout",
     "output_type": "stream",
     "text": [
      "(756, 18)\n",
      "(743, 18)\n"
     ]
    }
   ],
   "source": [
    "print(mat_df.shape)\n",
    "print(cl_mat_df.shape)"
   ]
  },
  {
   "cell_type": "markdown",
   "metadata": {},
   "source": [
    "# Which team has won maximum number of matches while chasing?"
   ]
  },
  {
   "cell_type": "code",
   "execution_count": 68,
   "metadata": {},
   "outputs": [
    {
     "data": {
      "text/plain": [
       "'Kolkata Knight Riders'"
      ]
     },
     "execution_count": 68,
     "metadata": {},
     "output_type": "execute_result"
    }
   ],
   "source": [
    "cl_mat_df.query(\"win_by_wickets>0\")[\"winner\"].value_counts().index[0]"
   ]
  },
  {
   "cell_type": "markdown",
   "metadata": {},
   "source": [
    "# Which team has lost maximum number of matches while chasing?"
   ]
  },
  {
   "cell_type": "code",
   "execution_count": 69,
   "metadata": {},
   "outputs": [
    {
     "data": {
      "text/plain": [
       "'Delhi Daredevils'"
      ]
     },
     "execution_count": 69,
     "metadata": {},
     "output_type": "execute_result"
    }
   ],
   "source": [
    "cl_mat_df.query(\"win_by_wickets==0\")[\"team2\"].value_counts().index[0]"
   ]
  },
  {
   "cell_type": "markdown",
   "metadata": {},
   "source": [
    "# Which toss decision is best for each ground?"
   ]
  },
  {
   "cell_type": "code",
   "execution_count": 70,
   "metadata": {},
   "outputs": [],
   "source": [
    "dic_ven=cl_mat_df.groupby('venue').groups"
   ]
  },
  {
   "cell_type": "code",
   "execution_count": 71,
   "metadata": {},
   "outputs": [],
   "source": [
    "toss_dec={}"
   ]
  },
  {
   "cell_type": "code",
   "execution_count": 72,
   "metadata": {},
   "outputs": [],
   "source": [
    "for i in dic_ven:\n",
    "    c=0\n",
    "    for j in dic_ven[i]:\n",
    "        if(cl_mat_df.loc[j][\"winner\"]==cl_mat_df.loc[j][\"team1\"]):\n",
    "            c+=1\n",
    "    if c > (len(dic_ven[i])-c):\n",
    "        toss_dec[i]='bat'\n",
    "    else:\n",
    "        toss_dec[i]='field'"
   ]
  },
  {
   "cell_type": "code",
   "execution_count": 73,
   "metadata": {},
   "outputs": [
    {
     "data": {
      "text/plain": [
       "{'ACA-VDCA Stadium': 'field',\n",
       " 'Barabati Stadium': 'bat',\n",
       " 'Brabourne Stadium': 'bat',\n",
       " 'Buffalo Park': 'bat',\n",
       " 'De Beers Diamond Oval': 'field',\n",
       " 'Dr DY Patil Sports Academy': 'field',\n",
       " 'Dr. Y.S. Rajasekhara Reddy ACA-VDCA Cricket Stadium': 'bat',\n",
       " 'Dubai International Cricket Stadium': 'field',\n",
       " 'Eden Gardens': 'field',\n",
       " 'Feroz Shah Kotla': 'field',\n",
       " 'Feroz Shah Kotla Ground': 'field',\n",
       " 'Green Park': 'field',\n",
       " 'Himachal Pradesh Cricket Association Stadium': 'bat',\n",
       " 'Holkar Cricket Stadium': 'field',\n",
       " 'IS Bindra Stadium': 'field',\n",
       " 'JSCA International Stadium Complex': 'field',\n",
       " 'Kingsmead': 'bat',\n",
       " 'M Chinnaswamy Stadium': 'field',\n",
       " 'M. A. Chidambaram Stadium': 'field',\n",
       " 'M. Chinnaswamy Stadium': 'field',\n",
       " 'MA Chidambaram Stadium, Chepauk': 'bat',\n",
       " 'Maharashtra Cricket Association Stadium': 'field',\n",
       " 'Nehru Stadium': 'bat',\n",
       " 'New Wanderers Stadium': 'field',\n",
       " 'Newlands': 'bat',\n",
       " 'OUTsurance Oval': 'field',\n",
       " 'Punjab Cricket Association IS Bindra Stadium, Mohali': 'field',\n",
       " 'Punjab Cricket Association Stadium, Mohali': 'field',\n",
       " 'Rajiv Gandhi International Stadium, Uppal': 'field',\n",
       " 'Rajiv Gandhi Intl. Cricket Stadium': 'bat',\n",
       " 'Sardar Patel Stadium, Motera': 'bat',\n",
       " 'Saurashtra Cricket Association Stadium': 'field',\n",
       " 'Sawai Mansingh Stadium': 'field',\n",
       " 'Shaheed Veer Narayan Singh International Stadium': 'field',\n",
       " 'Sharjah Cricket Stadium': 'field',\n",
       " 'Sheikh Zayed Stadium': 'field',\n",
       " \"St George's Park\": 'field',\n",
       " 'Subrata Roy Sahara Stadium': 'bat',\n",
       " 'SuperSport Park': 'field',\n",
       " 'Vidarbha Cricket Association Stadium, Jamtha': 'bat',\n",
       " 'Wankhede Stadium': 'field'}"
      ]
     },
     "execution_count": 73,
     "metadata": {},
     "output_type": "execute_result"
    }
   ],
   "source": [
    "toss_dec"
   ]
  },
  {
   "cell_type": "markdown",
   "metadata": {},
   "source": [
    "# Which player has won maximum number of MoM awards while chasing?"
   ]
  },
  {
   "cell_type": "code",
   "execution_count": 74,
   "metadata": {},
   "outputs": [
    {
     "data": {
      "text/plain": [
       "'YK Pathan'"
      ]
     },
     "execution_count": 74,
     "metadata": {},
     "output_type": "execute_result"
    }
   ],
   "source": [
    "mat_df.query(\"win_by_wickets > 0\")['player_of_match'].value_counts().index[0]"
   ]
  },
  {
   "cell_type": "markdown",
   "metadata": {},
   "source": [
    "# Which batsman has played maximum number of dot balls?"
   ]
  },
  {
   "cell_type": "code",
   "execution_count": 75,
   "metadata": {},
   "outputs": [
    {
     "data": {
      "text/plain": [
       "'V Kohli'"
      ]
     },
     "execution_count": 75,
     "metadata": {},
     "output_type": "execute_result"
    }
   ],
   "source": [
    "del_df.query(\"total_runs==0\")['batsman'].value_counts().index[0]"
   ]
  },
  {
   "cell_type": "markdown",
   "metadata": {},
   "source": [
    "# Which batsmen came to crease but never got a chance to face a ball?"
   ]
  },
  {
   "cell_type": "code",
   "execution_count": 76,
   "metadata": {},
   "outputs": [],
   "source": [
    "never_face={}"
   ]
  },
  {
   "cell_type": "code",
   "execution_count": 77,
   "metadata": {},
   "outputs": [],
   "source": [
    "dic_id=del_df.groupby('match_id').groups"
   ]
  },
  {
   "cell_type": "code",
   "execution_count": 78,
   "metadata": {},
   "outputs": [],
   "source": [
    "for r in dic_id:\n",
    "    i=dic_id[r][0]\n",
    "    j=dic_id[r][-1]\n",
    "    ns=del_df[i:(j+1)]['non_striker'].unique()\n",
    "    bat=del_df[i:(j+1)]['batsman'].unique()\n",
    "    dif=np.setdiff1d(ns,bat)\n",
    "    if len(dif)!=0:\n",
    "        never_face[r]=dif"
   ]
  },
  {
   "cell_type": "code",
   "execution_count": 79,
   "metadata": {},
   "outputs": [
    {
     "data": {
      "text/plain": [
       "{2: array(['MJ McClenaghan'], dtype=object),\n",
       " 3: array(['DR Smith'], dtype=object),\n",
       " 4: array(['R Bhatia'], dtype=object),\n",
       " 10: array(['A Nehra'], dtype=object),\n",
       " 11: array(['Sandeep Sharma'], dtype=object),\n",
       " 21: array(['CH Morris'], dtype=object),\n",
       " 28: array(['MG Johnson', 'MJ McClenaghan'], dtype=object),\n",
       " 29: array(['MK Pandey'], dtype=object),\n",
       " 31: array(['PJ Cummins'], dtype=object),\n",
       " 37: array(['S Aravind'], dtype=object),\n",
       " 43: array(['A Nehra', 'JD Unadkat'], dtype=object),\n",
       " 45: array(['S Aravind'], dtype=object),\n",
       " 51: array(['S Nadeem'], dtype=object),\n",
       " 54: array(['Sandeep Sharma'], dtype=object),\n",
       " 64: array(['PP Ojha'], dtype=object),\n",
       " 71: array(['AB Dinda'], dtype=object),\n",
       " 74: array(['JDP Oram'], dtype=object),\n",
       " 75: array(['I Sharma'], dtype=object),\n",
       " 79: array(['Joginder Sharma'], dtype=object),\n",
       " 80: array(['DP Vijaykumar', 'SB Bangar'], dtype=object),\n",
       " 82: array(['A Nehra'], dtype=object),\n",
       " 90: array(['A Kumble'], dtype=object),\n",
       " 91: array(['S Sreesanth'], dtype=object),\n",
       " 95: array(['GD McGrath'], dtype=object),\n",
       " 109: array(['A Nel'], dtype=object),\n",
       " 111: array(['Z Khan'], dtype=object),\n",
       " 115: array(['MM Patel'], dtype=object),\n",
       " 118: array(['PR Shah'], dtype=object),\n",
       " 119: array(['DW Steyn'], dtype=object),\n",
       " 120: array(['PP Chawla', 'T Kohli'], dtype=object),\n",
       " 125: array(['DL Vettori', 'L Balaji'], dtype=object),\n",
       " 129: array(['R Vinay Kumar'], dtype=object),\n",
       " 130: array(['K Goel'], dtype=object),\n",
       " 131: array(['MS Gony'], dtype=object),\n",
       " 135: array(['Z Khan'], dtype=object),\n",
       " 138: array(['AB Agarkar'], dtype=object),\n",
       " 139: array(['RR Powar'], dtype=object),\n",
       " 140: array(['Y Venugopal Rao'], dtype=object),\n",
       " 141: array(['A Nehra', 'S Tyagi'], dtype=object),\n",
       " 148: array(['A Kumble'], dtype=object),\n",
       " 150: array(['SL Malinga'], dtype=object),\n",
       " 155: array(['RP Singh'], dtype=object),\n",
       " 157: array(['PP Chawla'], dtype=object),\n",
       " 158: array(['PJ Sangwan'], dtype=object),\n",
       " 159: array(['S Tyagi'], dtype=object),\n",
       " 160: array(['SK Warne'], dtype=object),\n",
       " 163: array(['AB Agarkar'], dtype=object),\n",
       " 164: array(['Jaskaran Singh'], dtype=object),\n",
       " 170: array(['DS Kulkarni', 'SL Malinga'], dtype=object),\n",
       " 176: array(['SA Asnodkar', 'Z Khan'], dtype=object),\n",
       " 183: array(['R Sathish'], dtype=object),\n",
       " 187: array(['AD Mathews'], dtype=object),\n",
       " 188: array(['SL Malinga'], dtype=object),\n",
       " 193: array(['AA Jhunjhunwala'], dtype=object),\n",
       " 195: array(['PP Ojha'], dtype=object),\n",
       " 196: array(['WP Saha'], dtype=object),\n",
       " 198: array(['SK Warne'], dtype=object),\n",
       " 199: array(['PP Ojha'], dtype=object),\n",
       " 202: array(['C Ganapathy'], dtype=object),\n",
       " 204: array(['Y Venugopal Rao'], dtype=object),\n",
       " 206: array(['S Anirudha'], dtype=object),\n",
       " 210: array(['Harmeet Singh', 'PP Ojha'], dtype=object),\n",
       " 214: array(['P Kumar'], dtype=object),\n",
       " 216: array(['SB Jakati'], dtype=object),\n",
       " 227: array(['Kamran Khan'], dtype=object),\n",
       " 232: array(['SB Jakati'], dtype=object),\n",
       " 233: array(['Harmeet Singh'], dtype=object),\n",
       " 247: array(['KA Pollard'], dtype=object),\n",
       " 250: array(['S Nadeem'], dtype=object),\n",
       " 258: array(['MK Tiwary'], dtype=object),\n",
       " 266: array(['AB Agarkar'], dtype=object),\n",
       " 268: array(['A Mithun'], dtype=object),\n",
       " 271: array(['M Kartik'], dtype=object),\n",
       " 273: array(['TL Suman'], dtype=object),\n",
       " 275: array(['MV Boucher'], dtype=object),\n",
       " 276: array(['JA Morkel'], dtype=object),\n",
       " 283: array(['RP Singh'], dtype=object),\n",
       " 285: array(['SK Trivedi'], dtype=object),\n",
       " 286: array(['I Sharma'], dtype=object),\n",
       " 287: array(['SL Malinga'], dtype=object),\n",
       " 289: array(['WP Saha'], dtype=object),\n",
       " 291: array(['A Mithun'], dtype=object),\n",
       " 292: array(['DS Kulkarni', 'SL Malinga'], dtype=object),\n",
       " 302: array(['SB Jakati'], dtype=object),\n",
       " 305: array(['RG Sharma'], dtype=object),\n",
       " 307: array(['S Badrinath'], dtype=object),\n",
       " 310: array(['R Sharma'], dtype=object),\n",
       " 313: array(['TP Sudhindra'], dtype=object),\n",
       " 318: array(['M Vijay'], dtype=object),\n",
       " 320: array(['Z Khan'], dtype=object),\n",
       " 329: array(['B Kumar'], dtype=object),\n",
       " 331: array(['PA Patel'], dtype=object),\n",
       " 343: array(['P Awana'], dtype=object),\n",
       " 345: array(['AB Agarkar'], dtype=object),\n",
       " 347: array(['LR Shukla'], dtype=object),\n",
       " 353: array(['M Kartik'], dtype=object),\n",
       " 357: array(['M Morkel'], dtype=object),\n",
       " 366: array(['PA Reddy'], dtype=object),\n",
       " 370: array(['MM Patel'], dtype=object),\n",
       " 376: array(['DW Steyn'], dtype=object),\n",
       " 377: array(['GB Hogg'], dtype=object),\n",
       " 382: array(['UT Yadav'], dtype=object),\n",
       " 385: array(['S Sreesanth'], dtype=object),\n",
       " 386: array(['DP Nannes'], dtype=object),\n",
       " 388: array(['A Mishra'], dtype=object),\n",
       " 400: array(['L Balaji', 'P Awana'], dtype=object),\n",
       " 405: array(['MS Gony'], dtype=object),\n",
       " 406: array(['JH Kallis'], dtype=object),\n",
       " 412: array(['PP Chawla'], dtype=object),\n",
       " 416: array(['I Sharma'], dtype=object),\n",
       " 417: array(['AT Rayudu'], dtype=object),\n",
       " 424: array(['G Gambhir'], dtype=object),\n",
       " 431: array(['M Rawat'], dtype=object),\n",
       " 434: array(['AT Rayudu', 'Harbhajan Singh'], dtype=object),\n",
       " 435: array(['I Sharma'], dtype=object),\n",
       " 445: array(['LJ Wright'], dtype=object),\n",
       " 449: array(['A Mishra'], dtype=object),\n",
       " 451: array(['S Kaul'], dtype=object),\n",
       " 452: array(['S Badrinath'], dtype=object),\n",
       " 454: array(['MM Patel'], dtype=object),\n",
       " 461: array(['DW Steyn'], dtype=object),\n",
       " 463: array(['NM Coulter-Nile'], dtype=object),\n",
       " 465: array(['BW Hilfenhaus'], dtype=object),\n",
       " 466: array(['AR Patel'], dtype=object),\n",
       " 468: array(['MA Starc'], dtype=object),\n",
       " 471: array(['STR Binny', 'YS Chahal'], dtype=object),\n",
       " 473: array(['Z Khan'], dtype=object),\n",
       " 478: array(['R Vinay Kumar'], dtype=object),\n",
       " 480: array(['WD Parnell'], dtype=object),\n",
       " 484: array(['AP Tare'], dtype=object),\n",
       " 490: array(['R Ashwin'], dtype=object),\n",
       " 494: array(['KK Cooper'], dtype=object),\n",
       " 497: array(['RN ten Doeschate'], dtype=object),\n",
       " 511: array(['Parvez Rasool', 'R Vinay Kumar'], dtype=object),\n",
       " 513: array(['KK Cooper'], dtype=object),\n",
       " 514: array(['M Morkel', 'SP Narine'], dtype=object),\n",
       " 519: array(['DJ Muthuswami'], dtype=object),\n",
       " 520: array(['TG Southee'], dtype=object),\n",
       " 521: array(['DJ Bravo'], dtype=object),\n",
       " 522: array(['PP Chawla'], dtype=object),\n",
       " 524: array(['R Vinay Kumar'], dtype=object),\n",
       " 528: array(['MK Tiwary', 'R Dhawan'], dtype=object),\n",
       " 530: array(['J Suchith'], dtype=object),\n",
       " 539: array(['JJ Bumrah'], dtype=object),\n",
       " 549: array(['Harbhajan Singh'], dtype=object),\n",
       " 554: array(['MM Sharma', 'Mandeep Singh', 'YS Chahal'], dtype=object),\n",
       " 560: array(['GJ Bailey', 'UT Yadav'], dtype=object),\n",
       " 564: array(['BE Hendricks'], dtype=object),\n",
       " 566: array(['HV Patel'], dtype=object),\n",
       " 568: array(['SN Khan'], dtype=object),\n",
       " 575: array(['RA Jadeja'], dtype=object),\n",
       " 579: array(['MG Johnson'], dtype=object),\n",
       " 585: array(['MJ McClenaghan'], dtype=object),\n",
       " 590: array(['HV Patel'], dtype=object),\n",
       " 592: array(['I Sharma'], dtype=object),\n",
       " 596: array(['SP Narine'], dtype=object),\n",
       " 597: array(['KH Pandya', 'MM Sharma'], dtype=object),\n",
       " 598: array(['A Nehra'], dtype=object),\n",
       " 601: array(['P Kumar'], dtype=object),\n",
       " 602: array(['GB Hogg'], dtype=object),\n",
       " 604: array(['S Kaushik'], dtype=object),\n",
       " 606: array(['VR Aaron'], dtype=object),\n",
       " 614: array(['DJ Bravo'], dtype=object),\n",
       " 615: array(['STR Binny'], dtype=object),\n",
       " 616: array(['R Bhatia'], dtype=object),\n",
       " 622: array(['GJ Maxwell'], dtype=object),\n",
       " 634: array(['BB Sran', 'M Morkel'], dtype=object),\n",
       " 7896: array(['Washington Sundar'], dtype=object),\n",
       " 7899: array(['C Munro', 'SS Iyer'], dtype=object),\n",
       " 7905: array(['BB Sran'], dtype=object),\n",
       " 7906: array(['S Mavi'], dtype=object),\n",
       " 7908: array(['JD Unadkat'], dtype=object),\n",
       " 7912: array(['CH Morris'], dtype=object),\n",
       " 7914: array(['JD Unadkat'], dtype=object),\n",
       " 7917: array(['Mohammed Siraj'], dtype=object),\n",
       " 7919: array(['V Shankar'], dtype=object),\n",
       " 7920: array(['RA Jadeja'], dtype=object),\n",
       " 7921: array(['Basil Thampi'], dtype=object),\n",
       " 7923: array(['RA Jadeja'], dtype=object),\n",
       " 7924: array(['MJ McClenaghan'], dtype=object),\n",
       " 7925: array(['J Archer'], dtype=object),\n",
       " 7926: array(['KV Sharma'], dtype=object),\n",
       " 7927: array(['R Ashwin'], dtype=object),\n",
       " 7930: array(['PP Chawla'], dtype=object),\n",
       " 7934: array(['JP Duminy'], dtype=object),\n",
       " 7935: array(['V Shankar'], dtype=object),\n",
       " 7936: array(['J Archer'], dtype=object),\n",
       " 7940: array(['BA Stokes', 'JP Duminy'], dtype=object),\n",
       " 7947: array(['S Gill', 'S Kaul'], dtype=object),\n",
       " 7948: array(['Mustafizur Rahman'], dtype=object),\n",
       " 7951: array(['PP Chawla'], dtype=object),\n",
       " 7952: array(['P Krishna'], dtype=object),\n",
       " 11139: array(['JJ Bumrah'], dtype=object),\n",
       " 11145: array(['M Markande'], dtype=object),\n",
       " 11146: array(['HV Patel'], dtype=object),\n",
       " 11148: array(['JD Unadkat'], dtype=object),\n",
       " 11149: array(['M Ur Rahman'], dtype=object),\n",
       " 11152: array(['I Sharma'], dtype=object),\n",
       " 11310: array(['A Joseph'], dtype=object),\n",
       " 11318: array(['KH Pandya'], dtype=object),\n",
       " 11320: array(['Kuldeep Yadav'], dtype=object),\n",
       " 11322: array(['KA Pollard', 'Mohammed Siraj'], dtype=object),\n",
       " 11323: array(['JD Unadkat'], dtype=object),\n",
       " 11324: array(['YK Pathan'], dtype=object),\n",
       " 11325: array(['I Sharma', 'K Paul', 'KA Pollard'], dtype=object),\n",
       " 11326: array(['KD Karthik'], dtype=object),\n",
       " 11330: array(['DW Steyn', 'SN Thakur'], dtype=object),\n",
       " 11331: array(['SV Samson'], dtype=object),\n",
       " 11332: array(['DJ Bravo'], dtype=object),\n",
       " 11335: array(['Imran Tahir'], dtype=object),\n",
       " 11336: array(['S Kaul'], dtype=object),\n",
       " 11337: array(['UT Yadav'], dtype=object),\n",
       " 11340: array(['UT Yadav'], dtype=object),\n",
       " 11342: array(['Rashid Khan'], dtype=object),\n",
       " 11347: array(['SP Narine'], dtype=object),\n",
       " 11413: array(['B Kumar', 'TA Boult'], dtype=object),\n",
       " 11415: array(['JJ Bumrah'], dtype=object)}"
      ]
     },
     "execution_count": 79,
     "metadata": {},
     "output_type": "execute_result"
    }
   ],
   "source": [
    "never_face"
   ]
  },
  {
   "cell_type": "markdown",
   "metadata": {},
   "source": [
    "# Which bowler has hit for maximum number of 1s/2s/3s/4s/6s?"
   ]
  },
  {
   "cell_type": "code",
   "execution_count": 80,
   "metadata": {},
   "outputs": [
    {
     "name": "stdout",
     "output_type": "stream",
     "text": [
      "1s Harbhajan Singh\n",
      "2s A Mishra\n",
      "3s P Kumar\n",
      "4s UT Yadav\n",
      "5s AB Dinda\n",
      "6s PP Chawla\n"
     ]
    }
   ],
   "source": [
    "for i in range(1,7):\n",
    "    print(str(i)+\"s\",del_df.query(\"batsman_runs==\"+str(i))['bowler'].value_counts().index[0])"
   ]
  },
  {
   "cell_type": "markdown",
   "metadata": {},
   "source": [
    "# Which batsman got stumped out maximum number of times?"
   ]
  },
  {
   "cell_type": "code",
   "execution_count": 81,
   "metadata": {},
   "outputs": [
    {
     "data": {
      "text/plain": [
       "'SK Raina'"
      ]
     },
     "execution_count": 81,
     "metadata": {},
     "output_type": "execute_result"
    }
   ],
   "source": [
    "del_df.query(\"dismissal_kind=='stumped'\")['player_dismissed'].value_counts().index[0]"
   ]
  },
  {
   "cell_type": "markdown",
   "metadata": {},
   "source": [
    "# Which non-striker has been part of maximum number of runouts?"
   ]
  },
  {
   "cell_type": "code",
   "execution_count": 82,
   "metadata": {},
   "outputs": [
    {
     "data": {
      "text/plain": [
       "Index(['AB de Villiers', 'G Gambhir', 'M Vijay'], dtype='object')"
      ]
     },
     "execution_count": 82,
     "metadata": {},
     "output_type": "execute_result"
    }
   ],
   "source": [
    "del_df.query(\"dismissal_kind=='run out' and player_dismissed==non_striker\")[\"player_dismissed\"].value_counts().index[:3]"
   ]
  },
  {
   "cell_type": "markdown",
   "metadata": {},
   "source": [
    "# Make at least 5 more new queries and find answers to them"
   ]
  },
  {
   "cell_type": "markdown",
   "metadata": {},
   "source": [
    "Q1: Matches in every season"
   ]
  },
  {
   "cell_type": "code",
   "execution_count": 83,
   "metadata": {},
   "outputs": [
    {
     "data": {
      "text/plain": [
       "2013    76\n",
       "2012    74\n",
       "2011    73\n",
       "2019    60\n",
       "2018    60\n",
       "2016    60\n",
       "2014    60\n",
       "2010    60\n",
       "2017    59\n",
       "2015    59\n",
       "2008    58\n",
       "2009    57\n",
       "Name: season, dtype: int64"
      ]
     },
     "execution_count": 83,
     "metadata": {},
     "output_type": "execute_result"
    }
   ],
   "source": [
    "mat_df['season'].value_counts()"
   ]
  },
  {
   "cell_type": "markdown",
   "metadata": {},
   "source": [
    "Q2: Batsman that hit most number of 6 "
   ]
  },
  {
   "cell_type": "code",
   "execution_count": 84,
   "metadata": {},
   "outputs": [
    {
     "data": {
      "text/plain": [
       "'CH Gayle'"
      ]
     },
     "execution_count": 84,
     "metadata": {},
     "output_type": "execute_result"
    }
   ],
   "source": [
    "del_df.query(\"total_runs>5\")['batsman'].value_counts().index[0]"
   ]
  },
  {
   "cell_type": "markdown",
   "metadata": {},
   "source": [
    "Q3: City hosting most matches"
   ]
  },
  {
   "cell_type": "code",
   "execution_count": 85,
   "metadata": {},
   "outputs": [
    {
     "data": {
      "text/plain": [
       "'Mumbai'"
      ]
     },
     "execution_count": 85,
     "metadata": {},
     "output_type": "execute_result"
    }
   ],
   "source": [
    "mat_df[\"city\"].value_counts().index[0]"
   ]
  },
  {
   "cell_type": "markdown",
   "metadata": {},
   "source": [
    "Q4: Umpires that servered as First Umpire but not as a Second Umpire"
   ]
  },
  {
   "cell_type": "code",
   "execution_count": 86,
   "metadata": {},
   "outputs": [
    {
     "data": {
      "text/plain": [
       "{'AY Dandekar',\n",
       " 'Aleem Dar',\n",
       " 'Asad Rauf',\n",
       " 'BF Bowden',\n",
       " 'GAV Baxter',\n",
       " 'K Bharatan',\n",
       " 'Marais Erasmus',\n",
       " 'RM Deshpande',\n",
       " 'Sundaram Ravi',\n",
       " 'YC Barde'}"
      ]
     },
     "execution_count": 86,
     "metadata": {},
     "output_type": "execute_result"
    }
   ],
   "source": [
    "set(mat_df[\"umpire1\"].unique())-set(mat_df[\"umpire2\"].unique())"
   ]
  },
  {
   "cell_type": "markdown",
   "metadata": {},
   "source": [
    "Q5: print the most winning team year wise"
   ]
  },
  {
   "cell_type": "code",
   "execution_count": 87,
   "metadata": {},
   "outputs": [],
   "source": [
    "season_grp=mat_df.groupby('season')"
   ]
  },
  {
   "cell_type": "code",
   "execution_count": 88,
   "metadata": {},
   "outputs": [
    {
     "name": "stdout",
     "output_type": "stream",
     "text": [
      "Most win 2017: Mumbai Indians\n",
      "Most win 2008: Rajasthan Royals\n",
      "Most win 2009: Delhi Daredevils\n",
      "Most win 2010: Mumbai Indians\n",
      "Most win 2011: Chennai Super Kings\n",
      "Most win 2012: Kolkata Knight Riders\n",
      "Most win 2013: Mumbai Indians\n",
      "Most win 2014: Kings XI Punjab\n",
      "Most win 2015: Chennai Super Kings\n",
      "Most win 2016: Sunrisers Hyderabad\n",
      "Most win 2018: Chennai Super Kings\n",
      "Most win 2019: Mumbai Indians\n"
     ]
    }
   ],
   "source": [
    "l=list(mat_df['season'].unique())\n",
    "for i in l:\n",
    "    print(\"Most win \"+str(i)+\": \",end=\"\")\n",
    "    print(mat_df.query(\"season==\"+str(i))['winner'].value_counts().index[0])"
   ]
  },
  {
   "cell_type": "code",
   "execution_count": null,
   "metadata": {},
   "outputs": [],
   "source": []
  }
 ],
 "metadata": {
  "kernelspec": {
   "display_name": "Python 3",
   "language": "python",
   "name": "python3"
  },
  "language_info": {
   "codemirror_mode": {
    "name": "ipython",
    "version": 3
   },
   "file_extension": ".py",
   "mimetype": "text/x-python",
   "name": "python",
   "nbconvert_exporter": "python",
   "pygments_lexer": "ipython3",
   "version": "3.6.5"
  }
 },
 "nbformat": 4,
 "nbformat_minor": 2
}
